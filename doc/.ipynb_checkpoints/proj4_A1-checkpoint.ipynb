{
 "cells": [
  {
   "cell_type": "markdown",
   "metadata": {},
   "source": [
    "### Import necessary packages"
   ]
  },
  {
   "cell_type": "code",
   "execution_count": 1,
   "metadata": {},
   "outputs": [],
   "source": [
    "import matplotlib.pyplot as plt\n",
    "import numpy as np\n",
    "import pandas as pd\n",
    "import scipy.optimize as optim\n",
    "import seaborn as sns\n",
    "from sklearn import preprocessing\n",
    "from sklearn.metrics import accuracy_score\n",
    "from sklearn.model_selection import train_test_split"
   ]
  },
  {
   "cell_type": "markdown",
   "metadata": {},
   "source": [
    "### Data cleaning"
   ]
  },
  {
   "cell_type": "code",
   "execution_count": 2,
   "metadata": {},
   "outputs": [
    {
     "data": {
      "text/plain": [
       "Index(['id', 'name', 'first', 'last', 'compas_screening_date', 'sex', 'dob',\n",
       "       'age', 'age_cat', 'race', 'juv_fel_count', 'decile_score',\n",
       "       'juv_misd_count', 'juv_other_count', 'priors_count',\n",
       "       'days_b_screening_arrest', 'c_jail_in', 'c_jail_out', 'c_case_number',\n",
       "       'c_offense_date', 'c_arrest_date', 'c_days_from_compas',\n",
       "       'c_charge_degree', 'c_charge_desc', 'is_recid', 'r_case_number',\n",
       "       'r_charge_degree', 'r_days_from_arrest', 'r_offense_date',\n",
       "       'r_charge_desc', 'r_jail_in', 'r_jail_out', 'violent_recid',\n",
       "       'is_violent_recid', 'vr_case_number', 'vr_charge_degree',\n",
       "       'vr_offense_date', 'vr_charge_desc', 'type_of_assessment',\n",
       "       'decile_score.1', 'score_text', 'screening_date',\n",
       "       'v_type_of_assessment', 'v_decile_score', 'v_score_text',\n",
       "       'v_screening_date', 'in_custody', 'out_custody', 'priors_count.1',\n",
       "       'start', 'end', 'event', 'two_year_recid'],\n",
       "      dtype='object')"
      ]
     },
     "execution_count": 2,
     "metadata": {},
     "output_type": "execute_result"
    }
   ],
   "source": [
    "# Load data\n",
    "df = pd.read_csv('https://github.com/propublica/compas-analysis/raw/master/compas-scores-two-years.csv')\n",
    "df.columns"
   ]
  },
  {
   "cell_type": "code",
   "execution_count": 3,
   "metadata": {},
   "outputs": [],
   "source": [
    "# Calculate days in jail for each individual\n",
    "df['day_stayed'] = (pd.to_datetime(df[\"c_jail_out\"]) - pd.to_datetime(df[\"c_jail_in\"])).astype('timedelta64[h]') / 24\n",
    "# Remove those who were in jail for negative days\n",
    "df = df[df.day_stayed > 0]"
   ]
  },
  {
   "cell_type": "code",
   "execution_count": 4,
   "metadata": {},
   "outputs": [
    {
     "data": {
      "text/html": [
       "<div>\n",
       "<style scoped>\n",
       "    .dataframe tbody tr th:only-of-type {\n",
       "        vertical-align: middle;\n",
       "    }\n",
       "\n",
       "    .dataframe tbody tr th {\n",
       "        vertical-align: top;\n",
       "    }\n",
       "\n",
       "    .dataframe thead th {\n",
       "        text-align: right;\n",
       "    }\n",
       "</style>\n",
       "<table border=\"1\" class=\"dataframe\">\n",
       "  <thead>\n",
       "    <tr style=\"text-align: right;\">\n",
       "      <th></th>\n",
       "      <th>sex</th>\n",
       "      <th>age</th>\n",
       "      <th>age_cat</th>\n",
       "      <th>race</th>\n",
       "      <th>decile_score</th>\n",
       "      <th>score_text</th>\n",
       "      <th>priors_count</th>\n",
       "      <th>days_b_screening_arrest</th>\n",
       "      <th>v_decile_score</th>\n",
       "      <th>v_score_text</th>\n",
       "      <th>c_charge_degree</th>\n",
       "      <th>is_violent_recid</th>\n",
       "      <th>is_recid</th>\n",
       "      <th>day_stayed</th>\n",
       "      <th>two_year_recid</th>\n",
       "    </tr>\n",
       "  </thead>\n",
       "  <tbody>\n",
       "  </tbody>\n",
       "</table>\n",
       "</div>"
      ],
      "text/plain": [
       "Empty DataFrame\n",
       "Columns: [sex, age, age_cat, race, decile_score, score_text, priors_count, days_b_screening_arrest, v_decile_score, v_score_text, c_charge_degree, is_violent_recid, is_recid, day_stayed, two_year_recid]\n",
       "Index: []"
      ]
     },
     "execution_count": 4,
     "metadata": {},
     "output_type": "execute_result"
    }
   ],
   "source": [
    "# Variable selection \n",
    "# Drop unnecessary variables (eg.: id, name, first, etc.)\n",
    "# Drop variables that have repeated info (eg.: dob to general and related to age, age_cat)\n",
    "df = df[['sex', 'age', 'age_cat', 'race', 'decile_score', 'score_text', 'priors_count',\n",
    "             'days_b_screening_arrest', 'v_decile_score', 'v_score_text','c_charge_degree', \n",
    "             'is_violent_recid', 'is_recid', 'day_stayed', 'two_year_recid']]\n",
    "df.head(5)"
   ]
  },
  {
   "cell_type": "code",
   "execution_count": 5,
   "metadata": {},
   "outputs": [
    {
     "data": {
      "text/plain": [
       "Series([], Name: race, dtype: int64)"
      ]
     },
     "execution_count": 5,
     "metadata": {},
     "output_type": "execute_result"
    }
   ],
   "source": [
    "# df.race.value_counts() --> not all are AA or Caucasian\n",
    "# drop those that are not\n",
    "is_race = [i=='African-American' or i=='Caucasian' for i in df.race]\n",
    "df = df.loc[is_race]\n",
    "df.race.value_counts()"
   ]
  },
  {
   "cell_type": "code",
   "execution_count": 6,
   "metadata": {
    "scrolled": true
   },
   "outputs": [
    {
     "data": {
      "text/html": [
       "<div>\n",
       "<style scoped>\n",
       "    .dataframe tbody tr th:only-of-type {\n",
       "        vertical-align: middle;\n",
       "    }\n",
       "\n",
       "    .dataframe tbody tr th {\n",
       "        vertical-align: top;\n",
       "    }\n",
       "\n",
       "    .dataframe thead th {\n",
       "        text-align: right;\n",
       "    }\n",
       "</style>\n",
       "<table border=\"1\" class=\"dataframe\">\n",
       "  <thead>\n",
       "    <tr style=\"text-align: right;\">\n",
       "      <th></th>\n",
       "      <th>sex</th>\n",
       "      <th>age</th>\n",
       "      <th>age_cat</th>\n",
       "      <th>race</th>\n",
       "      <th>decile_score</th>\n",
       "      <th>score_text</th>\n",
       "      <th>priors_count</th>\n",
       "      <th>days_b_screening_arrest</th>\n",
       "      <th>v_decile_score</th>\n",
       "      <th>v_score_text</th>\n",
       "      <th>c_charge_degree</th>\n",
       "      <th>is_violent_recid</th>\n",
       "      <th>is_recid</th>\n",
       "      <th>day_stayed</th>\n",
       "      <th>two_year_recid</th>\n",
       "    </tr>\n",
       "  </thead>\n",
       "  <tbody>\n",
       "  </tbody>\n",
       "</table>\n",
       "</div>"
      ],
      "text/plain": [
       "Empty DataFrame\n",
       "Columns: [sex, age, age_cat, race, decile_score, score_text, priors_count, days_b_screening_arrest, v_decile_score, v_score_text, c_charge_degree, is_violent_recid, is_recid, day_stayed, two_year_recid]\n",
       "Index: []"
      ]
     },
     "execution_count": 6,
     "metadata": {},
     "output_type": "execute_result"
    }
   ],
   "source": [
    "df['sex'].replace(['Male','Female'], [1,0], inplace = True)\n",
    "df['race'].replace(['Caucasian','African-American'], [1,0], inplace = True)\n",
    "df['score_text'].replace(['Low','Medium','High'], [0,1,2], inplace = True)\n",
    "df['v_score_text'].replace(['Low','Medium','High'], [0,1,2], inplace = True)\n",
    "df['age_cat'].replace(['Less than 25','25 - 45','Greater than 45'], [0,1,2],inplace = True) \n",
    "df['c_charge_degree'].replace(['M','F'], [1,0], inplace = True)\n",
    "df.head(5)"
   ]
  },
  {
   "cell_type": "code",
   "execution_count": 7,
   "metadata": {},
   "outputs": [
    {
     "name": "stdout",
     "output_type": "stream",
     "text": [
      "Correlation with the target variable:\n",
      "age                       NaN\n",
      "decile_score              NaN\n",
      "priors_count              NaN\n",
      "days_b_screening_arrest   NaN\n",
      "v_decile_score            NaN\n",
      "is_violent_recid          NaN\n",
      "is_recid                  NaN\n",
      "day_stayed                NaN\n",
      "two_year_recid            NaN\n",
      "Name: two_year_recid, dtype: float64\n"
     ]
    },
    {
     "name": "stderr",
     "output_type": "stream",
     "text": [
      "/Users/nashita/anaconda3/lib/python3.11/site-packages/seaborn/matrix.py:202: RuntimeWarning: All-NaN slice encountered\n",
      "  vmin = np.nanmin(calc_data)\n",
      "/Users/nashita/anaconda3/lib/python3.11/site-packages/seaborn/matrix.py:207: RuntimeWarning: All-NaN slice encountered\n",
      "  vmax = np.nanmax(calc_data)\n"
     ]
    },
    {
     "data": {
      "image/png": "[encoded data removed]",
      "text/plain": [
       "<Figure size 1200x800 with 2 Axes>"
      ]
     },
     "metadata": {},
     "output_type": "display_data"
    }
   ],
   "source": [
    "# Get the list of column names\n",
    "column_names = df.columns.tolist()\n",
    "\n",
    "# Assuming 'target_variable' is the name of your target variable\n",
    "target_variable = 'two_year_recid'\n",
    "\n",
    "# Select relevant features for correlation analysis\n",
    "features_for_correlation = column_names.copy() # Copy the list of column names\n",
    "features_for_correlation.remove(target_variable)\n",
    "\n",
    "# Calculate the correlation matrix\n",
    "correlation_matrix = df[features_for_correlation + [target_variable]].corr()\n",
    "\n",
    "# Extract correlations with the target variable\n",
    "correlations_with_target = correlation_matrix[target_variable]\n",
    "\n",
    "# Print or visualize correlations\n",
    "print(\"Correlation with the target variable:\")\n",
    "print(correlations_with_target)\n",
    "\n",
    "# You can also visualize the entire correlation matrix using a heatmap\n",
    "plt.figure(figsize=(12, 8))\n",
    "sns.heatmap(correlation_matrix, annot=True, cmap='coolwarm', fmt=\".2f\", linewidths=0.5)\n",
    "plt.title(\"Correlation Matrix\")\n",
    "plt.show()"
   ]
  },
  {
   "cell_type": "code",
   "execution_count": 8,
   "metadata": {},
   "outputs": [
    {
     "data": {
      "text/html": [
       "<div>\n",
       "<style scoped>\n",
       "    .dataframe tbody tr th:only-of-type {\n",
       "        vertical-align: middle;\n",
       "    }\n",
       "\n",
       "    .dataframe tbody tr th {\n",
       "        vertical-align: top;\n",
       "    }\n",
       "\n",
       "    .dataframe thead th {\n",
       "        text-align: right;\n",
       "    }\n",
       "</style>\n",
       "<table border=\"1\" class=\"dataframe\">\n",
       "  <thead>\n",
       "    <tr style=\"text-align: right;\">\n",
       "      <th></th>\n",
       "      <th>sex</th>\n",
       "      <th>age</th>\n",
       "      <th>age_cat</th>\n",
       "      <th>race</th>\n",
       "      <th>decile_score</th>\n",
       "      <th>score_text</th>\n",
       "      <th>priors_count</th>\n",
       "      <th>days_b_screening_arrest</th>\n",
       "      <th>v_decile_score</th>\n",
       "      <th>v_score_text</th>\n",
       "      <th>c_charge_degree</th>\n",
       "      <th>is_violent_recid</th>\n",
       "      <th>is_recid</th>\n",
       "      <th>day_stayed</th>\n",
       "      <th>two_year_recid</th>\n",
       "    </tr>\n",
       "  </thead>\n",
       "  <tbody>\n",
       "  </tbody>\n",
       "</table>\n",
       "</div>"
      ],
      "text/plain": [
       "Empty DataFrame\n",
       "Columns: [sex, age, age_cat, race, decile_score, score_text, priors_count, days_b_screening_arrest, v_decile_score, v_score_text, c_charge_degree, is_violent_recid, is_recid, day_stayed, two_year_recid]\n",
       "Index: []"
      ]
     },
     "execution_count": 8,
     "metadata": {},
     "output_type": "execute_result"
    }
   ],
   "source": [
    "# Example: Remove one of the highly correlated features\n",
    "threshold = 0.4 # Set your correlation threshold\n",
    "\n",
    "# Find pairs of highly correlated features\n",
    "highly_correlated_pairs = [(i, j) for i in range(len(correlation_matrix.columns))\n",
    "                           for j in range(i+1, len(correlation_matrix.columns))\n",
    "                           if abs(correlation_matrix.iloc[i, j]) > threshold]\n",
    "\n",
    "# Remove one feature from each highly correlated pair\n",
    "features_to_remove = set()\n",
    "for i, j in highly_correlated_pairs:\n",
    "    feature_i = correlation_matrix.columns[i]\n",
    "    feature_j = correlation_matrix.columns[j]\n",
    "    \n",
    "    # Keep the feature with higher correlation with the target variable\n",
    "    if abs(correlations_with_target[feature_i]) > abs(correlations_with_target[feature_j]):\n",
    "        features_to_remove.add(feature_j)\n",
    "    else:\n",
    "        features_to_remove.add(feature_i)\n",
    "\n",
    "# Drop the identified features\n",
    "df = df.drop(columns=features_to_remove)\n",
    "df.head(5)"
   ]
  },
  {
   "cell_type": "markdown",
   "metadata": {},
   "source": [
    "d is a distance measure on X, simple Euclidean distance:\n",
    "$$d(x_n, v_k) = ||x_n − v_k||_2$$\n",
    "To allow different input features to have different levels of impace, we add $α_i$ to introduce individual weight parameters for each feature dimension. \n",
    "$$d(x_n, v_k, α) = \\sum\\limits _{i=1}^{D} α_i(x_{ni} - v_{ki})^2$$"
   ]
  },
  {
   "cell_type": "code",
   "execution_count": 9,
   "metadata": {},
   "outputs": [],
   "source": [
    "from numba import jit\n",
    "@jit(nopython=True)\n",
    "def distances(X, v, alpha, N, P, k):\n",
    "    dists = np.zeros((N, P))\n",
    "    for i in range(N):\n",
    "        for p in range(P):\n",
    "            for j in range(k):\n",
    "                dists[i, j] += (X[i, p] - v[j, p]) * (X[i, p] - v[j, p]) * alpha[p]\n",
    "    return dists"
   ]
  },
  {
   "cell_type": "markdown",
   "metadata": {},
   "source": [
    "$M_{n,k}$ as the probability that $x_n$ maps to $v_k$:\n",
    "$$M_{n,k}=P(Z=k|x_n)\\;\\forall n,k$$\n",
    "When the algorithms maps the original dataset $X$ to prototypes, the infomation that whether or not the individual belongs to protected group are removed. To achieve this, formula of statistical parity are used:\n",
    "$$P(Z=k|x^+ \\in X^+) = P(Z=k|x^- \\in X^-)\\;\\forall k$$\n",
    "(a discriminative clustering model, where the prototypes act as the clusters)\n",
    "\n",
    "A set of prototypes induces a natural probabilistic mapping from $X$ to $Z$ via the softmax:\n",
    "$$P(Z=k|x)=exp(-d(x,v_k))/\\sum\\limits_{j=1}^{k}exp(-d(x,v_j))$$"
   ]
  },
  {
   "cell_type": "code",
   "execution_count": 10,
   "metadata": {},
   "outputs": [],
   "source": [
    "@jit(nopython=True)\n",
    "def M_nk(dists, N, k):\n",
    "    M_nk = np.zeros((N, k))\n",
    "    exp = np.zeros((N, k))\n",
    "    denom = np.zeros(N)\n",
    "    for i in range(N):\n",
    "        for j in range(k):\n",
    "            exp[i, j] = np.exp(-1 * dists[i, j])\n",
    "            denom[i] += exp[i, j]\n",
    "        for j in range(k):\n",
    "            if denom[i]:\n",
    "                M_nk[i, j] = exp[i, j] / denom[i]\n",
    "            else:\n",
    "                M_nk[i, j] = exp[i, j] / 1e-6\n",
    "    return M_nk"
   ]
  },
  {
   "cell_type": "markdown",
   "metadata": {},
   "source": [
    "To ensure statistical parity, ensure equation 1 by using training data as:\n",
    "$$M_k^+ = M_k^- \\; \\forall k$$\n",
    "$$M^+_k = \\frac{1}{|X^+_0|} \\sum_{n \\in X^+_0} M_{n,k} = \\mathbb{E}_{x \\in X^+}P(Z=k|x)$$\n",
    "$M^-_k$ is defined similarly."
   ]
  },
  {
   "cell_type": "code",
   "execution_count": 11,
   "metadata": {},
   "outputs": [],
   "source": [
    "@jit(nopython=True)\n",
    "def M_k(M_nk, N, k):\n",
    "    M_k = np.zeros(k)\n",
    "    for j in range(k):\n",
    "        for i in range(N):\n",
    "            M_k[j] += M_nk[i, j]\n",
    "        M_k[j] /= N\n",
    "    return M_k"
   ]
  },
  {
   "cell_type": "markdown",
   "metadata": {},
   "source": [
    "First  term in objective:\n",
    "$$L_z = \\sum_{k=1}^K |M_k^+ - M_k^-| $$\n",
    "Second term quantify the amount of information lost in the new representation using a simple squared-error measure:\n",
    "$$L_x = \\sum_{n=1}^N (x_n - \\hat{x}_n)^2$$\n",
    "where $ \\hat{x}_n $ are the reconstructions of $x_n$ from $Z$:\n",
    "$$\\hat{x}_n = \\sum^K_{k=1}M_{nk}v_k$$"
   ]
  },
  {
   "cell_type": "code",
   "execution_count": 12,
   "metadata": {},
   "outputs": [],
   "source": [
    "@jit(nopython=True)\n",
    "def x_n_hat(X, M_nk, v, N, P, k):\n",
    "    x_n_hat = np.zeros((N, P))\n",
    "    L_x = 0.0\n",
    "    for i in range(N):\n",
    "        for p in range(P):\n",
    "            for j in range(k):\n",
    "                x_n_hat[i, p] += M_nk[i, j] * v[j, p]\n",
    "            L_x += (X[i, p] - x_n_hat[i, p]) * (X[i, p] - x_n_hat[i, p])\n",
    "    return x_n_hat, L_x"
   ]
  },
  {
   "cell_type": "markdown",
   "metadata": {},
   "source": [
    "The first two terms encourage the system to encode all information in the input attributes except for those that can lead to biased decisions.\n",
    "Third term requires the prediction of $y$ is as accurate as possible:\n",
    "$$L_y = \\sum_{n=1}^N -y_n log \\hat{y}_n - (1-y_n)log(1- \\hat{y}_n) $$\n",
    "Here $\\hat{y}_n$ is the prediction for $y_n$,  based on marginalizing over each prototype’s prediction for $Y$, weighted by their respective probabilities $P(Z = k|x_n)$:\n",
    "$$\\hat{y_n}=\\sum\\limits_{k = 1}^{K}M_{n,k}w_k$$\n",
    ",we constrain the $w_k$ values to be between 0 and 1."
   ]
  },
  {
   "cell_type": "code",
   "execution_count": 13,
   "metadata": {},
   "outputs": [],
   "source": [
    "@jit(nopython=True)\n",
    "def yhat(M_nk, y, w, N, k):\n",
    "    yhat = np.zeros(N)\n",
    "    L_y = 0.0\n",
    "    for i in range(N):\n",
    "        for j in range(k):\n",
    "            yhat[i] += M_nk[i, j] * w[j]\n",
    "        yhat[i] = 1e-6 if yhat[i] <= 0 else yhat[i]\n",
    "        yhat[i] = 0.999 if yhat[i] >= 1 else yhat[i]\n",
    "        L_y += -1 * y[i] * np.log(yhat[i]) - (1.0 - y[i]) * np.log(1.0 - yhat[i])\n",
    "    return yhat, L_y"
   ]
  },
  {
   "cell_type": "markdown",
   "metadata": {},
   "source": [
    "Ultimate goal is to minimize:\n",
    "$$L = A_z \\cdot L_z + A_x \\cdot L_x + A_y \\cdot L_y $$"
   ]
  },
  {
   "cell_type": "code",
   "execution_count": 14,
   "metadata": {},
   "outputs": [],
   "source": [
    "def LFR(params, data_sensitive, data_nonsensitive, y_sensitive, y_nonsensitive, \n",
    "        k=10, A_x = 1e-4, A_y = 0.1, A_z = 1000, results=0):\n",
    "    \n",
    "    LFR.iters += 1 \n",
    "    Ns, P = data_sensitive.shape\n",
    "    Nns, _ = data_nonsensitive.shape\n",
    "    \n",
    "    alpha0 = params[:P]\n",
    "    alpha1 = params[P : 2 * P]\n",
    "    w = params[2 * P : (2 * P) + k]\n",
    "    v = np.matrix(params[(2 * P) + k:]).reshape((k, P))\n",
    "        \n",
    "    dists_sensitive = distances(data_sensitive, v, alpha1, Ns, P, k)\n",
    "    dists_nonsensitive = distances(data_nonsensitive, v, alpha0, Nns, P, k)\n",
    "\n",
    "    M_nk_sensitive = M_nk(dists_sensitive, Ns, k)\n",
    "    M_nk_nonsensitive = M_nk(dists_nonsensitive, Nns, k)\n",
    "    \n",
    "    M_k_sensitive = M_k(M_nk_sensitive, Ns, k)\n",
    "    M_k_nonsensitive = M_k(M_nk_nonsensitive, Nns, k)\n",
    "    \n",
    "    L_z = 0.0\n",
    "    for j in range(k):\n",
    "        L_z += abs(M_k_sensitive[j] - M_k_nonsensitive[j])\n",
    "\n",
    "    x_n_hat_sensitive, L_x1 = x_n_hat(data_sensitive, M_nk_sensitive, v, Ns, P, k)\n",
    "    x_n_hat_nonsensitive, L_x2 = x_n_hat(data_nonsensitive, M_nk_nonsensitive, v, Nns, P, k)\n",
    "    L_x = L_x1 + L_x2\n",
    "\n",
    "    yhat_sensitive, L_y1 = yhat(M_nk_sensitive, y_sensitive, w, Ns, k)\n",
    "    yhat_nonsensitive, L_y2 = yhat(M_nk_nonsensitive, y_nonsensitive, w, Nns, k)\n",
    "    L_y = L_y1 + L_y2\n",
    "\n",
    "    loss = A_x * L_x + A_y * L_y + A_z * L_z\n",
    "\n",
    "    if LFR.iters % 500 == 0:\n",
    "        print(\"step: {}, loss: {}, L_x: {}, L_y: {}, L_z: {}\".format(\n",
    "            LFR.iters, loss, L_x, L_y, L_z))\n",
    "      \n",
    "    if results:\n",
    "        return yhat_sensitive, yhat_nonsensitive, M_nk_sensitive, M_nk_nonsensitive\n",
    "    else:\n",
    "        return loss"
   ]
  },
  {
   "cell_type": "code",
   "execution_count": 15,
   "metadata": {},
   "outputs": [
    {
     "ename": "ValueError",
     "evalue": "Found array with 0 sample(s) (shape=(0, 14)) while a minimum of 1 is required by the scale function.",
     "output_type": "error",
     "traceback": [
      "\u001b[0;31m---------------------------------------------------------------------------\u001b[0m",
      "\u001b[0;31mValueError\u001b[0m                                Traceback (most recent call last)",
      "Cell \u001b[0;32mIn[15], line 10\u001b[0m\n\u001b[1;32m      7\u001b[0m data \u001b[38;5;241m=\u001b[39m data[:,:\u001b[38;5;241m-\u001b[39m\u001b[38;5;241m1\u001b[39m]\n\u001b[1;32m      8\u001b[0m sensitive \u001b[38;5;241m=\u001b[39m data[:,\u001b[38;5;241m1\u001b[39m]\n\u001b[0;32m---> 10\u001b[0m data \u001b[38;5;241m=\u001b[39m preprocessing\u001b[38;5;241m.\u001b[39mscale(data)\n\u001b[1;32m     11\u001b[0m sensitive_idx \u001b[38;5;241m=\u001b[39m np\u001b[38;5;241m.\u001b[39marray(np\u001b[38;5;241m.\u001b[39mwhere(sensitive\u001b[38;5;241m==\u001b[39m\u001b[38;5;241m1\u001b[39m))[\u001b[38;5;241m0\u001b[39m]\u001b[38;5;241m.\u001b[39mflatten()\n\u001b[1;32m     12\u001b[0m nonsensitive_idx \u001b[38;5;241m=\u001b[39m np\u001b[38;5;241m.\u001b[39marray(np\u001b[38;5;241m.\u001b[39mwhere(sensitive\u001b[38;5;241m!=\u001b[39m\u001b[38;5;241m1\u001b[39m))[\u001b[38;5;241m0\u001b[39m]\u001b[38;5;241m.\u001b[39mflatten()\n",
      "File \u001b[0;32m~/anaconda3/lib/python3.11/site-packages/sklearn/utils/_param_validation.py:211\u001b[0m, in \u001b[0;36mvalidate_params.<locals>.decorator.<locals>.wrapper\u001b[0;34m(*args, **kwargs)\u001b[0m\n\u001b[1;32m    205\u001b[0m \u001b[38;5;28;01mtry\u001b[39;00m:\n\u001b[1;32m    206\u001b[0m     \u001b[38;5;28;01mwith\u001b[39;00m config_context(\n\u001b[1;32m    207\u001b[0m         skip_parameter_validation\u001b[38;5;241m=\u001b[39m(\n\u001b[1;32m    208\u001b[0m             prefer_skip_nested_validation \u001b[38;5;129;01mor\u001b[39;00m global_skip_validation\n\u001b[1;32m    209\u001b[0m         )\n\u001b[1;32m    210\u001b[0m     ):\n\u001b[0;32m--> 211\u001b[0m         \u001b[38;5;28;01mreturn\u001b[39;00m func(\u001b[38;5;241m*\u001b[39margs, \u001b[38;5;241m*\u001b[39m\u001b[38;5;241m*\u001b[39mkwargs)\n\u001b[1;32m    212\u001b[0m \u001b[38;5;28;01mexcept\u001b[39;00m InvalidParameterError \u001b[38;5;28;01mas\u001b[39;00m e:\n\u001b[1;32m    213\u001b[0m     \u001b[38;5;66;03m# When the function is just a wrapper around an estimator, we allow\u001b[39;00m\n\u001b[1;32m    214\u001b[0m     \u001b[38;5;66;03m# the function to delegate validation to the estimator, but we replace\u001b[39;00m\n\u001b[1;32m    215\u001b[0m     \u001b[38;5;66;03m# the name of the estimator by the name of the function in the error\u001b[39;00m\n\u001b[1;32m    216\u001b[0m     \u001b[38;5;66;03m# message to avoid confusion.\u001b[39;00m\n\u001b[1;32m    217\u001b[0m     msg \u001b[38;5;241m=\u001b[39m re\u001b[38;5;241m.\u001b[39msub(\n\u001b[1;32m    218\u001b[0m         \u001b[38;5;124mr\u001b[39m\u001b[38;5;124m\"\u001b[39m\u001b[38;5;124mparameter of \u001b[39m\u001b[38;5;124m\\\u001b[39m\u001b[38;5;124mw+ must be\u001b[39m\u001b[38;5;124m\"\u001b[39m,\n\u001b[1;32m    219\u001b[0m         \u001b[38;5;124mf\u001b[39m\u001b[38;5;124m\"\u001b[39m\u001b[38;5;124mparameter of \u001b[39m\u001b[38;5;132;01m{\u001b[39;00mfunc\u001b[38;5;241m.\u001b[39m\u001b[38;5;18m__qualname__\u001b[39m\u001b[38;5;132;01m}\u001b[39;00m\u001b[38;5;124m must be\u001b[39m\u001b[38;5;124m\"\u001b[39m,\n\u001b[1;32m    220\u001b[0m         \u001b[38;5;28mstr\u001b[39m(e),\n\u001b[1;32m    221\u001b[0m     )\n",
      "File \u001b[0;32m~/anaconda3/lib/python3.11/site-packages/sklearn/preprocessing/_data.py:206\u001b[0m, in \u001b[0;36mscale\u001b[0;34m(X, axis, with_mean, with_std, copy)\u001b[0m\n\u001b[1;32m    120\u001b[0m \u001b[38;5;129m@validate_params\u001b[39m(\n\u001b[1;32m    121\u001b[0m     {\n\u001b[1;32m    122\u001b[0m         \u001b[38;5;124m\"\u001b[39m\u001b[38;5;124mX\u001b[39m\u001b[38;5;124m\"\u001b[39m: [\u001b[38;5;124m\"\u001b[39m\u001b[38;5;124marray-like\u001b[39m\u001b[38;5;124m\"\u001b[39m, \u001b[38;5;124m\"\u001b[39m\u001b[38;5;124msparse matrix\u001b[39m\u001b[38;5;124m\"\u001b[39m],\n\u001b[0;32m   (...)\u001b[0m\n\u001b[1;32m    129\u001b[0m )\n\u001b[1;32m    130\u001b[0m \u001b[38;5;28;01mdef\u001b[39;00m \u001b[38;5;21mscale\u001b[39m(X, \u001b[38;5;241m*\u001b[39m, axis\u001b[38;5;241m=\u001b[39m\u001b[38;5;241m0\u001b[39m, with_mean\u001b[38;5;241m=\u001b[39m\u001b[38;5;28;01mTrue\u001b[39;00m, with_std\u001b[38;5;241m=\u001b[39m\u001b[38;5;28;01mTrue\u001b[39;00m, copy\u001b[38;5;241m=\u001b[39m\u001b[38;5;28;01mTrue\u001b[39;00m):\n\u001b[1;32m    131\u001b[0m \u001b[38;5;250m    \u001b[39m\u001b[38;5;124;03m\"\"\"Standardize a dataset along any axis.\u001b[39;00m\n\u001b[1;32m    132\u001b[0m \n\u001b[1;32m    133\u001b[0m \u001b[38;5;124;03m    Center to the mean and component wise scale to unit variance.\u001b[39;00m\n\u001b[0;32m   (...)\u001b[0m\n\u001b[1;32m    204\u001b[0m \u001b[38;5;124;03m        leaking: `pipe = make_pipeline(StandardScaler(), LogisticRegression())`.\u001b[39;00m\n\u001b[1;32m    205\u001b[0m \u001b[38;5;124;03m    \"\"\"\u001b[39;00m  \u001b[38;5;66;03m# noqa\u001b[39;00m\n\u001b[0;32m--> 206\u001b[0m     X \u001b[38;5;241m=\u001b[39m check_array(\n\u001b[1;32m    207\u001b[0m         X,\n\u001b[1;32m    208\u001b[0m         accept_sparse\u001b[38;5;241m=\u001b[39m\u001b[38;5;124m\"\u001b[39m\u001b[38;5;124mcsc\u001b[39m\u001b[38;5;124m\"\u001b[39m,\n\u001b[1;32m    209\u001b[0m         copy\u001b[38;5;241m=\u001b[39mcopy,\n\u001b[1;32m    210\u001b[0m         ensure_2d\u001b[38;5;241m=\u001b[39m\u001b[38;5;28;01mFalse\u001b[39;00m,\n\u001b[1;32m    211\u001b[0m         estimator\u001b[38;5;241m=\u001b[39m\u001b[38;5;124m\"\u001b[39m\u001b[38;5;124mthe scale function\u001b[39m\u001b[38;5;124m\"\u001b[39m,\n\u001b[1;32m    212\u001b[0m         dtype\u001b[38;5;241m=\u001b[39mFLOAT_DTYPES,\n\u001b[1;32m    213\u001b[0m         force_all_finite\u001b[38;5;241m=\u001b[39m\u001b[38;5;124m\"\u001b[39m\u001b[38;5;124mallow-nan\u001b[39m\u001b[38;5;124m\"\u001b[39m,\n\u001b[1;32m    214\u001b[0m     )\n\u001b[1;32m    215\u001b[0m     \u001b[38;5;28;01mif\u001b[39;00m sparse\u001b[38;5;241m.\u001b[39missparse(X):\n\u001b[1;32m    216\u001b[0m         \u001b[38;5;28;01mif\u001b[39;00m with_mean:\n",
      "File \u001b[0;32m~/anaconda3/lib/python3.11/site-packages/sklearn/utils/validation.py:969\u001b[0m, in \u001b[0;36mcheck_array\u001b[0;34m(array, accept_sparse, accept_large_sparse, dtype, order, copy, force_all_finite, ensure_2d, allow_nd, ensure_min_samples, ensure_min_features, estimator, input_name)\u001b[0m\n\u001b[1;32m    967\u001b[0m     n_samples \u001b[38;5;241m=\u001b[39m _num_samples(array)\n\u001b[1;32m    968\u001b[0m     \u001b[38;5;28;01mif\u001b[39;00m n_samples \u001b[38;5;241m<\u001b[39m ensure_min_samples:\n\u001b[0;32m--> 969\u001b[0m         \u001b[38;5;28;01mraise\u001b[39;00m \u001b[38;5;167;01mValueError\u001b[39;00m(\n\u001b[1;32m    970\u001b[0m             \u001b[38;5;124m\"\u001b[39m\u001b[38;5;124mFound array with \u001b[39m\u001b[38;5;132;01m%d\u001b[39;00m\u001b[38;5;124m sample(s) (shape=\u001b[39m\u001b[38;5;132;01m%s\u001b[39;00m\u001b[38;5;124m) while a\u001b[39m\u001b[38;5;124m\"\u001b[39m\n\u001b[1;32m    971\u001b[0m             \u001b[38;5;124m\"\u001b[39m\u001b[38;5;124m minimum of \u001b[39m\u001b[38;5;132;01m%d\u001b[39;00m\u001b[38;5;124m is required\u001b[39m\u001b[38;5;132;01m%s\u001b[39;00m\u001b[38;5;124m.\u001b[39m\u001b[38;5;124m\"\u001b[39m\n\u001b[1;32m    972\u001b[0m             \u001b[38;5;241m%\u001b[39m (n_samples, array\u001b[38;5;241m.\u001b[39mshape, ensure_min_samples, context)\n\u001b[1;32m    973\u001b[0m         )\n\u001b[1;32m    975\u001b[0m \u001b[38;5;28;01mif\u001b[39;00m ensure_min_features \u001b[38;5;241m>\u001b[39m \u001b[38;5;241m0\u001b[39m \u001b[38;5;129;01mand\u001b[39;00m array\u001b[38;5;241m.\u001b[39mndim \u001b[38;5;241m==\u001b[39m \u001b[38;5;241m2\u001b[39m:\n\u001b[1;32m    976\u001b[0m     n_features \u001b[38;5;241m=\u001b[39m array\u001b[38;5;241m.\u001b[39mshape[\u001b[38;5;241m1\u001b[39m]\n",
      "\u001b[0;31mValueError\u001b[0m: Found array with 0 sample(s) (shape=(0, 14)) while a minimum of 1 is required by the scale function."
     ]
    }
   ],
   "source": [
    "LFR.iters = 0\n",
    "\n",
    "# k = number of propotypes\n",
    "k = 7\n",
    "data = np.array(df)\n",
    "y = np.array(data[:,-1]).flatten()\n",
    "data = data[:,:-1]\n",
    "sensitive = data[:,1]\n",
    "\n",
    "data = preprocessing.scale(data)\n",
    "sensitive_idx = np.array(np.where(sensitive==1))[0].flatten()\n",
    "nonsensitive_idx = np.array(np.where(sensitive!=1))[0].flatten()\n",
    "data_sensitive = data[sensitive_idx,:]\n",
    "data_nonsensitive = data[nonsensitive_idx,:]\n",
    "y_sensitive = y[sensitive_idx]\n",
    "y_nonsensitive = y[nonsensitive_idx]"
   ]
  },
  {
   "cell_type": "code",
   "execution_count": null,
   "metadata": {},
   "outputs": [],
   "source": [
    "# Train, val, test for nonsensitive and sensitive data\n",
    "train_ratio = 0.7\n",
    "val_ratio = 0.15\n",
    "test_ratio = 0.15\n",
    "\n",
    "sensitive_train_val, sensitive_test, sensitive_ytrain_val, sensitive_ytest = \\\n",
    "    train_test_split(data_sensitive, y_sensitive, test_size=test_ratio, random_state=42)\n",
    "sensitive_train, sensitive_val, sensitive_ytrain, sensitive_yval = \\\n",
    "    train_test_split(sensitive_train_val,sensitive_ytrain_val, test_size=val_ratio/(train_ratio+val_ratio), \n",
    "                     random_state=42)\n",
    "\n",
    "nonsensitive_train_val, nonsensitive_test, nonsensitive_ytrain_val, nonsensitive_ytest = \\\n",
    "    train_test_split(data_sensitive, y_sensitive, test_size=test_ratio, random_state=42)\n",
    "nonsensitive_train, nonsensitive_val, nonsensitive_ytrain, nonsensitive_yval = \\\n",
    "    train_test_split(nonsensitive_train_val, nonsensitive_ytrain_val, test_size=val_ratio/(train_ratio+val_ratio), \n",
    "                     random_state=42)\n",
    "\n",
    "test = np.concatenate((sensitive_test, nonsensitive_test))\n",
    "ytest = np.concatenate((sensitive_ytest, nonsensitive_ytest))\n",
    "\n",
    "training = np.concatenate((sensitive_train, nonsensitive_train))\n",
    "ytrain = np.concatenate((sensitive_ytrain, nonsensitive_ytrain))"
   ]
  },
  {
   "cell_type": "code",
   "execution_count": null,
   "metadata": {},
   "outputs": [],
   "source": [
    "rez = np.random.uniform(size=data.shape[1] * 2 + k + data.shape[1] * k)\n",
    "yhat_sensitive, yhat_nonsensitive, M_nk_sensitive, M_nk_nonsensitive = LFR(rez, sensitive_train, \n",
    "                                                                           nonsensitive_train, sensitive_ytrain,\n",
    "                                                                           nonsensitive_ytrain, k, 1e-4, 0.1, \n",
    "                                                                           1000, results=1)\n",
    "\n",
    "val_yhat_sensitive, val_yhat_nonsensitive, val_M_nk_sensitive, val_M_nk_nonsensitive = LFR(rez, sensitive_val, \n",
    "                                                                                           nonsensitive_val,\n",
    "                                                                                           sensitive_yval,\n",
    "                                                                                           nonsensitive_yval,\n",
    "                                                                                           k, 1e-4, 0.1, 1000,\n",
    "                                                                                           results = 1)"
   ]
  },
  {
   "cell_type": "code",
   "execution_count": null,
   "metadata": {},
   "outputs": [],
   "source": [
    "bnd = []\n",
    "for i, k2 in enumerate(rez):\n",
    "    if i < data.shape[1] * 2 or i >= data.shape[1] * 2 + k:\n",
    "        bnd.append((None, None))\n",
    "    else:\n",
    "        bnd.append((0, 1))\n",
    "\n",
    "rez = optim.fmin_l_bfgs_b(LFR, x0=rez, epsilon=1e-5, args=(sensitive_train, nonsensitive_train, sensitive_ytrain, \n",
    "                                                           nonsensitive_ytrain, k, 1e-4, 0.1, 1000, 0), \n",
    "                          bounds=bnd, approx_grad=True, maxfun=10000, maxiter=10000, iprint=-1)"
   ]
  },
  {
   "cell_type": "code",
   "execution_count": null,
   "metadata": {},
   "outputs": [],
   "source": [
    "w = rez[0][data.shape[1]*2:data.shape[1]*2+k]\n",
    "v = rez[0][data.shape[1]*2+k:].reshape(k,data.shape[1])"
   ]
  },
  {
   "cell_type": "code",
   "execution_count": null,
   "metadata": {},
   "outputs": [],
   "source": [
    "test_yhat_sensitive, test_yhat_nonsensitive, test_M_nk_sensitive, test_M_nk_nonsensitive = LFR(rez[0],\n",
    "                                                                                               sensitive_test,\n",
    "                                                                                               nonsensitive_test,\n",
    "                                                                                               sensitive_ytest,\n",
    "                                                                                               nonsensitive_ytest,\n",
    "                                                                                               k, 1e-4, 0.1, 1000,\n",
    "                                                                                               results = 1)"
   ]
  },
  {
   "cell_type": "code",
   "execution_count": null,
   "metadata": {},
   "outputs": [],
   "source": [
    "test_yhat_sensitive = [1 if x >=.5 else 0 for x in test_yhat_sensitive]\n",
    "test_yhat_nonsensitive = [1 if x >=.5 else 0 for x in test_yhat_nonsensitive]\n",
    "\n",
    "sensitive_accuracy = accuracy_score(list(sensitive_ytest),list(test_yhat_sensitive))\n",
    "nonsensitive_accuracy = accuracy_score(list(nonsensitive_ytest),list(test_yhat_nonsensitive))\n",
    "\n",
    "print(f'the test accuracy for for sensitive group is: {sensitive_accuracy}')\n",
    "print(f'the test accuracy for for nonsensitive group is: {nonsensitive_accuracy}')"
   ]
  }
 ],
 "metadata": {
  "kernelspec": {
   "display_name": "Python 3 (ipykernel)",
   "language": "python",
   "name": "python3"
  },
  "language_info": {
   "codemirror_mode": {
    "name": "ipython",
    "version": 3
   },
   "file_extension": ".py",
   "mimetype": "text/x-python",
   "name": "python",
   "nbconvert_exporter": "python",
   "pygments_lexer": "ipython3",
   "version": "3.11.4"
  }
 },
 "nbformat": 4,
 "nbformat_minor": 2
}
